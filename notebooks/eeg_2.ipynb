{
 "cells": [
  {
   "cell_type": "markdown",
   "metadata": {},
   "source": [
    "# Excercise 2"
   ]
  },
  {
   "cell_type": "markdown",
   "metadata": {},
   "source": [
    "## Intro\n",
    "\n",
    "In dit notebook staat de uitwerking van de tweede opdracht voor de Mastermodule Machine Learning. Hierbij wordt de dataset ingeladen door middel van de folter make_dataset.py. De dataloaders en iterator worden ingeladen door middel van de folder data_tools.py. Eerst worden de belangrijkste packages ingeladen:"
   ]
  },
  {
   "cell_type": "code",
   "execution_count": 34,
   "metadata": {},
   "outputs": [],
   "source": [
    "import sys\n",
    "from pathlib import Path\n",
    "import numpy as np\n",
    "import tensorflow as tf\n",
    "import torch\n",
    "from typing import Callable, Dict, Iterator, List, Optional, Sequence, Tuple, Union\n",
    "\n",
    "Tensor = torch.Tensor\n",
    "sys.path.insert(0, \"..\")\n"
   ]
  },
  {
   "cell_type": "markdown",
   "metadata": {},
   "source": [
    "Haal de data op vanuit de functie in de gestructeerde folder indeling."
   ]
  },
  {
   "cell_type": "code",
   "execution_count": 35,
   "metadata": {},
   "outputs": [],
   "source": [
    "from src.data import make_dataset\n",
    "from src.data import data_tools\n"
   ]
  },
  {
   "cell_type": "code",
   "execution_count": 36,
   "metadata": {},
   "outputs": [
    {
     "name": "stderr",
     "output_type": "stream",
     "text": [
      "2022-06-14 10:23:18.204 | INFO     | src.data.make_dataset:get_eeg:27 - Data is downloaded to ../data/raw/datasets/eeg_data.\n"
     ]
    }
   ],
   "source": [
    "dataset = make_dataset.get_eeg()\n"
   ]
  },
  {
   "cell_type": "markdown",
   "metadata": {},
   "source": [
    "## Exercise 1\n",
    "Na een verkenning van de data, komt naar voren dat de dataset uit 15 dimensies bestaat (14 observaties en 1 label). De data wordt eerst ingeladen in chunks wanneer het label gelijk is. Hierbij wordt dus de data aan elkaar geclusterd. Dit wordt gedaan door middel van de class BaseDataset waarbij ik een functie ingebouwd heb waarbij de data wordt aangepast (process_data). Hierbij kijk ik eerst naar het huidige label (cur_label = index 14) en maak ik 2 lege lijsten aan. 1 lijst waar meerdere observaties (EEG_list) aan elkaar worden opgeslagen en 1 lijst waar alle chunks worden samengevoegd (chunks). Waarbij ik gebruik maak van een forloop en kijk telkens of het label gelijk is aan het huidige label en hierna plak ik alle observaties behalve index 14( label). Deze voeg ik toe aan de lege lijst (EEG_dim) en uiteindelijk aan de lijst buiten de forloop (EEG_list). Dit doe ik ook als het label niet gelijk is aan huidig label. Uiteindelijk voeg ik de lijsten weer bij elkaar in de list chunks met de labels. "
   ]
  },
  {
   "cell_type": "code",
   "execution_count": 37,
   "metadata": {},
   "outputs": [],
   "source": [
    "dataloader = data_tools.BaseDataset(datapath=dataset)\n"
   ]
  },
  {
   "cell_type": "markdown",
   "metadata": {},
   "source": [
    "Hierbij komen 24 chunks naar voren."
   ]
  },
  {
   "cell_type": "code",
   "execution_count": 38,
   "metadata": {},
   "outputs": [
    {
     "data": {
      "text/plain": [
       "24"
      ]
     },
     "execution_count": 38,
     "metadata": {},
     "output_type": "execute_result"
    }
   ],
   "source": [
    "dataloader.__len__()\n"
   ]
  },
  {
   "cell_type": "markdown",
   "metadata": {},
   "source": [
    "Eerst is dus een label zichtbaar (bij item 0 > label 0) en de tensors. "
   ]
  },
  {
   "cell_type": "code",
   "execution_count": 39,
   "metadata": {},
   "outputs": [
    {
     "data": {
      "text/plain": [
       "(0,\n",
       " tensor([[4329.2300, 4009.2300, 4289.2300,  ..., 4280.5098, 4635.8999,\n",
       "          4393.8501],\n",
       "         [4324.6201, 4004.6201, 4293.8501,  ..., 4279.4902, 4632.8198,\n",
       "          4384.1001],\n",
       "         [4327.6899, 4006.6699, 4295.3799,  ..., 4282.0498, 4628.7202,\n",
       "          4389.2300],\n",
       "         ...,\n",
       "         [4468.2100, 4044.6201, 4305.1299,  ..., 4367.6899, 4833.8501,\n",
       "          4571.7900],\n",
       "         [4461.0298, 4041.0300, 4300.0000,  ..., 4365.1299, 4826.6699,\n",
       "          4558.4600],\n",
       "         [4452.8198, 4032.3101, 4295.3799,  ..., 4353.3301, 4808.2100,\n",
       "          4549.2300]]))"
      ]
     },
     "execution_count": 39,
     "metadata": {},
     "output_type": "execute_result"
    }
   ],
   "source": [
    "dataloader.__getitem__(0)\n"
   ]
  },
  {
   "cell_type": "code",
   "execution_count": 40,
   "metadata": {},
   "outputs": [
    {
     "data": {
      "text/plain": [
       "(0, torch.Size([188, 14]))"
      ]
     },
     "execution_count": 40,
     "metadata": {},
     "output_type": "execute_result"
    }
   ],
   "source": [
    "x, y = dataloader[0]\n",
    "x, y.shape\n"
   ]
  },
  {
   "cell_type": "markdown",
   "metadata": {},
   "source": [
    "Hierbij zie je dus dat de eerste chunk uit een sequence lengte van 188 bij 14 dimensies bestaat met label 0. De tweede observatie een sequence lengte van 683 bij 14 dimensies heeft met label 1. We kunnen hierbij door middel van de window functie, telkens over elke observatie windowen en op die manier gelijke lengtes krijgen. Wel komen hier dan meerdere windows van elke observatie naar voren. De window functie heb ik aab de BaseDataIterator toegevoegd (class BaseDataIterator_wind). Hierbij heb ik als basis de window functie uit les 3 gebruikt en maak ik weer een lege lijst aan. Hierna maak ik  gebruik van een forloop waarbij ik door de 24 chunks van de dataset ga (len(self.dataset)). Ik kijk per chunk hoelang de sequence lengte is en wordt er gekeken hoevaak de window erdoor heen kan. Ik start met een window_size van 5.   "
   ]
  },
  {
   "cell_type": "code",
   "execution_count": 41,
   "metadata": {},
   "outputs": [],
   "source": [
    "window_data = data_tools.BaseDataIterator_wind(dataloader, 5)\n"
   ]
  },
  {
   "cell_type": "code",
   "execution_count": 42,
   "metadata": {},
   "outputs": [
    {
     "data": {
      "text/plain": [
       "24"
      ]
     },
     "execution_count": 42,
     "metadata": {},
     "output_type": "execute_result"
    }
   ],
   "source": [
    "window_data.__len__()\n"
   ]
  },
  {
   "cell_type": "markdown",
   "metadata": {},
   "source": [
    "In onderstaande uitdraai zie je het eerste item in combinatie met een window van 5, waarbij het tweede gedeelte dus ook met de tweede waarde begint (4324). "
   ]
  },
  {
   "cell_type": "code",
   "execution_count": 43,
   "metadata": {},
   "outputs": [
    {
     "data": {
      "text/plain": [
       "(0,\n",
       " tensor([[[4329.2300, 4009.2300, 4289.2300,  ..., 4280.5098, 4635.8999,\n",
       "           4393.8501],\n",
       "          [4324.6201, 4004.6201, 4293.8501,  ..., 4279.4902, 4632.8198,\n",
       "           4384.1001],\n",
       "          [4327.6899, 4006.6699, 4295.3799,  ..., 4282.0498, 4628.7202,\n",
       "           4389.2300],\n",
       "          [4328.7202, 4011.7900, 4296.4102,  ..., 4287.6899, 4632.3101,\n",
       "           4396.4102],\n",
       "          [4326.1499, 4011.7900, 4292.3101,  ..., 4288.2100, 4632.8198,\n",
       "           4398.4600]],\n",
       " \n",
       "         [[4324.6201, 4004.6201, 4293.8501,  ..., 4279.4902, 4632.8198,\n",
       "           4384.1001],\n",
       "          [4327.6899, 4006.6699, 4295.3799,  ..., 4282.0498, 4628.7202,\n",
       "           4389.2300],\n",
       "          [4328.7202, 4011.7900, 4296.4102,  ..., 4287.6899, 4632.3101,\n",
       "           4396.4102],\n",
       "          [4326.1499, 4011.7900, 4292.3101,  ..., 4288.2100, 4632.8198,\n",
       "           4398.4600],\n",
       "          [4321.0298, 4004.6201, 4284.1001,  ..., 4281.0298, 4628.2100,\n",
       "           4389.7402]],\n",
       " \n",
       "         [[4327.6899, 4006.6699, 4295.3799,  ..., 4282.0498, 4628.7202,\n",
       "           4389.2300],\n",
       "          [4328.7202, 4011.7900, 4296.4102,  ..., 4287.6899, 4632.3101,\n",
       "           4396.4102],\n",
       "          [4326.1499, 4011.7900, 4292.3101,  ..., 4288.2100, 4632.8198,\n",
       "           4398.4600],\n",
       "          [4321.0298, 4004.6201, 4284.1001,  ..., 4281.0298, 4628.2100,\n",
       "           4389.7402],\n",
       "          [4319.4902, 4001.0300, 4280.5098,  ..., 4269.7402, 4625.1299,\n",
       "           4378.4600]],\n",
       " \n",
       "         ...,\n",
       " \n",
       "         [[4450.7700, 4045.1299, 4289.7402,  ..., 4348.2100, 4774.8701,\n",
       "           4537.4399],\n",
       "          [4448.7202, 4042.5601, 4275.3799,  ..., 4339.4902, 4785.6401,\n",
       "           4542.0498],\n",
       "          [4454.8701, 4039.4900, 4281.0298,  ..., 4345.6401, 4796.9199,\n",
       "           4551.7900],\n",
       "          [4465.1299, 4041.5400, 4298.4600,  ..., 4358.4600, 4814.3599,\n",
       "           4566.1499],\n",
       "          [4468.2100, 4044.6201, 4305.1299,  ..., 4367.6899, 4833.8501,\n",
       "           4571.7900]],\n",
       " \n",
       "         [[4448.7202, 4042.5601, 4275.3799,  ..., 4339.4902, 4785.6401,\n",
       "           4542.0498],\n",
       "          [4454.8701, 4039.4900, 4281.0298,  ..., 4345.6401, 4796.9199,\n",
       "           4551.7900],\n",
       "          [4465.1299, 4041.5400, 4298.4600,  ..., 4358.4600, 4814.3599,\n",
       "           4566.1499],\n",
       "          [4468.2100, 4044.6201, 4305.1299,  ..., 4367.6899, 4833.8501,\n",
       "           4571.7900],\n",
       "          [4461.0298, 4041.0300, 4300.0000,  ..., 4365.1299, 4826.6699,\n",
       "           4558.4600]],\n",
       " \n",
       "         [[4454.8701, 4039.4900, 4281.0298,  ..., 4345.6401, 4796.9199,\n",
       "           4551.7900],\n",
       "          [4465.1299, 4041.5400, 4298.4600,  ..., 4358.4600, 4814.3599,\n",
       "           4566.1499],\n",
       "          [4468.2100, 4044.6201, 4305.1299,  ..., 4367.6899, 4833.8501,\n",
       "           4571.7900],\n",
       "          [4461.0298, 4041.0300, 4300.0000,  ..., 4365.1299, 4826.6699,\n",
       "           4558.4600],\n",
       "          [4452.8198, 4032.3101, 4295.3799,  ..., 4353.3301, 4808.2100,\n",
       "           4549.2300]]]))"
      ]
     },
     "execution_count": 43,
     "metadata": {},
     "output_type": "execute_result"
    }
   ],
   "source": [
    "window_data.__getitem__(0)\n"
   ]
  },
  {
   "cell_type": "code",
   "execution_count": 44,
   "metadata": {},
   "outputs": [
    {
     "data": {
      "text/plain": [
       "torch.Size([184, 5, 14])"
      ]
     },
     "execution_count": 44,
     "metadata": {},
     "output_type": "execute_result"
    }
   ],
   "source": [
    "x, y = window_data[0]\n",
    "y.shape\n"
   ]
  },
  {
   "cell_type": "markdown",
   "metadata": {},
   "source": [
    "Hierbij is 184 de maximale hoeveelheid slices we vanuit de array [0][1] kunnen halen met een window van 5. "
   ]
  },
  {
   "cell_type": "code",
   "execution_count": 45,
   "metadata": {},
   "outputs": [
    {
     "data": {
      "text/plain": [
       "torch.Size([23, 5, 14])"
      ]
     },
     "execution_count": 45,
     "metadata": {},
     "output_type": "execute_result"
    }
   ],
   "source": [
    "x, y = window_data[7]\n",
    "y.shape\n"
   ]
  },
  {
   "cell_type": "markdown",
   "metadata": {},
   "source": [
    "## Exercise 2 \n",
    "\n",
    "Kijken naar de eerste observatie. Een window van 5 is klein, stel ik ga groter windowen dan kan het zijn dat sommige observaties te kort zijn. De maximale window is 22. Een window van 32 geeft dus problemen bij bovenstaande arry[7][1]. Om deze reden wordt padding toegevoegd waardoor je weet dat de observatie nooit te kort kan zijn. Deze heb ik in een aparte class (BaseDataIterator_pad) geschreven waarbij ik de functie padding gebruik. Hierbij maak ik weer een lege lijst aan waar ik met een forloop door de chunks (24) heen ga. Hierbij kijk ik telkens hoelang de sequence lengte is en bereken ik het verschil met de window size. Stel dit verschil is niet 0 dan wordt het verschil door middel van de F.pad functie toegevoegd. Als deze gelijk is aan 0 wordt er geen extra padding toegepast. \n"
   ]
  },
  {
   "cell_type": "code",
   "execution_count": 46,
   "metadata": {},
   "outputs": [],
   "source": [
    "data_padding = data_tools.BaseDataIterator_pad(dataloader, 32)\n"
   ]
  },
  {
   "cell_type": "code",
   "execution_count": 47,
   "metadata": {},
   "outputs": [
    {
     "data": {
      "text/plain": [
       "24"
      ]
     },
     "execution_count": 47,
     "metadata": {},
     "output_type": "execute_result"
    }
   ],
   "source": [
    "data_padding.__len__()\n"
   ]
  },
  {
   "cell_type": "code",
   "execution_count": 48,
   "metadata": {},
   "outputs": [
    {
     "data": {
      "text/plain": [
       "(1,\n",
       " tensor([[4299.4902, 3995.8999, 4260.0000, 4116.4102, 4330.2598, 4618.4600,\n",
       "          4084.1001, 4624.6201, 4209.2300, 4235.3799, 4194.8701, 4281.0298,\n",
       "          4583.0801, 4349.7402],\n",
       "         [4300.0000, 3995.3799, 4266.1499, 4116.4102, 4336.4102, 4620.5098,\n",
       "          4087.1799, 4622.0498, 4210.7700, 4238.4600, 4195.8999, 4285.1299,\n",
       "          4587.1802, 4351.7900],\n",
       "         [4299.4902, 3993.8501, 4265.6401, 4117.9502, 4336.9199, 4626.6699,\n",
       "          4084.6201, 4621.5400, 4212.3101, 4244.6201, 4195.3799, 4286.6699,\n",
       "          4587.6899, 4349.7402],\n",
       "         [4298.9702, 3993.3301, 4253.8501, 4111.7900, 4333.8501, 4621.0298,\n",
       "          4078.4600, 4618.9702, 4207.6899, 4239.4902, 4200.0000, 4281.5400,\n",
       "          4585.6401, 4342.0498],\n",
       "         [4302.0498, 3994.8701, 4252.8198, 4107.6899, 4332.8198, 4614.8701,\n",
       "          4078.9700, 4615.8999, 4208.2100, 4228.2100, 4202.0498, 4276.4102,\n",
       "          4586.1499, 4344.6201],\n",
       "         [4304.1001, 3995.3799, 4260.5098, 4111.2798, 4332.3101, 4618.4600,\n",
       "          4084.1001, 4614.8701, 4209.2300, 4230.7700, 4197.9502, 4277.4399,\n",
       "          4587.1802, 4349.7402],\n",
       "         [4299.4902, 3990.7700, 4261.0298, 4108.7202, 4329.2300, 4618.4600,\n",
       "          4084.1001, 4616.4102, 4208.2100, 4237.4399, 4196.4102, 4281.5400,\n",
       "          4584.6201, 4346.6699],\n",
       "         [4296.9199, 3985.6399, 4259.4902, 4103.5898, 4330.7700, 4618.9702,\n",
       "          4085.1299, 4623.5898, 4213.3301, 4235.8999, 4197.4399, 4285.6401,\n",
       "          4587.1802, 4350.7700],\n",
       "         [4297.9502, 3990.2600, 4259.4902, 4106.1499, 4333.8501, 4621.5400,\n",
       "          4086.6699, 4624.6201, 4209.7402, 4234.8701, 4194.8701, 4286.6699,\n",
       "          4592.3101, 4355.8999],\n",
       "         [4300.0000, 3995.8999, 4256.9199, 4108.7202, 4332.3101, 4618.9702,\n",
       "          4084.6201, 4613.3301, 4199.4902, 4231.2798, 4193.8501, 4281.0298,\n",
       "          4585.6401, 4349.2300],\n",
       "         [4301.5400, 3993.3301, 4260.0000, 4107.1802, 4329.7402, 4617.4399,\n",
       "          4085.1299, 4613.8501, 4209.2300, 4230.7700, 4197.4399, 4280.5098,\n",
       "          4580.0000, 4350.7700],\n",
       "         [4302.5601, 3989.2300, 4266.6699, 4107.1802, 4329.2300, 4619.4902,\n",
       "          4085.6399, 4621.0298, 4212.8198, 4237.9502, 4200.0000, 4290.7700,\n",
       "          4588.2100, 4355.3799],\n",
       "         [4302.0498, 3992.3101, 4264.6201, 4107.6899, 4328.7202, 4615.8999,\n",
       "          4078.4600, 4612.3101, 4196.4102, 4238.9702, 4197.4399, 4293.3301,\n",
       "          4592.8198, 4344.1001],\n",
       "         [4298.9702, 3993.3301, 4258.9702, 4107.1802, 4329.2300, 4614.3599,\n",
       "          4081.0300, 4607.1802, 4197.4399, 4232.8198, 4193.8501, 4282.0498,\n",
       "          4587.6899, 4341.0298],\n",
       "         [4292.8198, 3990.2600, 4253.8501, 4106.6699, 4329.2300, 4621.0298,\n",
       "          4088.7200, 4614.8701, 4207.6899, 4233.3301, 4194.8701, 4275.8999,\n",
       "          4587.6899, 4347.6899],\n",
       "         [4290.2598, 3987.1799, 4250.2598, 4106.6699, 4328.7202, 4622.0498,\n",
       "          4085.1299, 4614.8701, 4201.0298, 4230.7700, 4193.8501, 4275.3799,\n",
       "          4582.5601, 4342.5601],\n",
       "         [4293.8501, 3986.1499, 4248.7202, 4105.1299, 4326.1499, 4615.3799,\n",
       "          4077.9500, 4609.7402, 4196.9199, 4223.5898, 4190.2598, 4272.3101,\n",
       "          4575.3799, 4336.4102],\n",
       "         [4293.3301, 3988.7200, 4253.8501, 4105.6401, 4323.0801, 4613.8501,\n",
       "          4080.5100, 4612.3101, 4205.1299, 4228.2100, 4190.2598, 4274.3599,\n",
       "          4582.0498, 4337.9502],\n",
       "         [4292.3101, 3991.7900, 4260.0000, 4108.2100, 4326.1499, 4616.9199,\n",
       "          4084.1001, 4615.3799, 4203.0801, 4230.7700, 4191.7900, 4281.0298,\n",
       "          4585.1299, 4337.4399],\n",
       "         [4295.8999, 3991.2800, 4261.5400, 4108.2100, 4330.2598, 4617.9502,\n",
       "          4082.5601, 4615.8999, 4200.5098, 4221.0298, 4192.3101, 4280.5098,\n",
       "          4578.4600, 4341.5400],\n",
       "         [4296.4102, 3991.2800, 4260.5098, 4107.1802, 4327.6899, 4616.4102,\n",
       "          4082.0500, 4620.0000, 4211.2798, 4224.6201, 4193.3301, 4278.9702,\n",
       "          4578.4600, 4352.3101],\n",
       "         [4289.7402, 3992.8201, 4255.8999, 4108.7202, 4324.6201, 4616.9199,\n",
       "          4080.5100, 4621.0298, 4210.2598, 4236.9199, 4192.3101, 4281.0298,\n",
       "          4581.0298, 4352.8198],\n",
       "         [4284.6201, 3988.7200, 4248.7202, 4106.6699, 4321.5400, 4617.4399,\n",
       "          4079.4900, 4619.4902, 4197.4399, 4234.3599, 4189.7402, 4280.0000,\n",
       "          4576.9199, 4343.5898],\n",
       "         [4291.7900, 3987.6899, 4253.3301, 4104.6201, 4323.5898, 4615.8999,\n",
       "          4077.4399, 4615.8999, 4200.5098, 4229.7402, 4193.8501, 4278.9702,\n",
       "          4581.5400, 4348.7202],\n",
       "         [4301.0298, 3992.8201, 4265.1299, 4109.7402, 4329.2300, 4616.4102,\n",
       "          4076.9199, 4612.3101, 4206.6699, 4234.3599, 4200.5098, 4284.1001,\n",
       "          4592.3101, 4360.5098],\n",
       "         [4295.3799, 3994.3601, 4263.5898, 4111.7900, 4330.2598, 4622.5601,\n",
       "          4079.4900, 4610.2598, 4197.4399, 4229.7402, 4194.3599, 4282.0498,\n",
       "          4580.5098, 4349.7402],\n",
       "         [4287.6899, 3989.2300, 4259.4902, 4108.2100, 4327.6899, 4626.1499,\n",
       "          4081.0300, 4610.2598, 4197.9502, 4227.1802, 4192.3101, 4280.0000,\n",
       "          4571.7900, 4343.5898],\n",
       "         [   0.0000,    0.0000,    0.0000,    0.0000,    0.0000,    0.0000,\n",
       "             0.0000,    0.0000,    0.0000,    0.0000,    0.0000,    0.0000,\n",
       "             0.0000,    0.0000],\n",
       "         [   0.0000,    0.0000,    0.0000,    0.0000,    0.0000,    0.0000,\n",
       "             0.0000,    0.0000,    0.0000,    0.0000,    0.0000,    0.0000,\n",
       "             0.0000,    0.0000],\n",
       "         [   0.0000,    0.0000,    0.0000,    0.0000,    0.0000,    0.0000,\n",
       "             0.0000,    0.0000,    0.0000,    0.0000,    0.0000,    0.0000,\n",
       "             0.0000,    0.0000],\n",
       "         [   0.0000,    0.0000,    0.0000,    0.0000,    0.0000,    0.0000,\n",
       "             0.0000,    0.0000,    0.0000,    0.0000,    0.0000,    0.0000,\n",
       "             0.0000,    0.0000],\n",
       "         [   0.0000,    0.0000,    0.0000,    0.0000,    0.0000,    0.0000,\n",
       "             0.0000,    0.0000,    0.0000,    0.0000,    0.0000,    0.0000,\n",
       "             0.0000,    0.0000]]))"
      ]
     },
     "execution_count": 48,
     "metadata": {},
     "output_type": "execute_result"
    }
   ],
   "source": [
    "data_padding.__getitem__(7)\n"
   ]
  },
  {
   "cell_type": "code",
   "execution_count": 49,
   "metadata": {},
   "outputs": [
    {
     "data": {
      "text/plain": [
       "torch.Size([32, 14])"
      ]
     },
     "execution_count": 49,
     "metadata": {},
     "output_type": "execute_result"
    }
   ],
   "source": [
    "x, y = data_padding[7]\n",
    "y.shape\n"
   ]
  },
  {
   "cell_type": "markdown",
   "metadata": {},
   "source": [
    "Hierbij zie je dus bij de eerste observatie dat de sequence lengte is uitgebreid met 9 (naar 32). De sequence lengte was eerst 23. Hierbij moet wel rekening gehouden dat bijvoorbeeld bij de observatie met een sequence lengte van 23 er heel veel padding is als bijvoorbeeld de window size 100 is. De BaseDataIterator class kun je combineren met de class van de windowing door de data_padding in te voegen in de BaseDataIterator_wind (bv. data_test = data_tools.BaseDataIterator_wind(data_padding,32)). Echter heb ik de windowing en padding gecombineerd in één functie (padding_windowing) in de class BaseDataIterator_pad_wind. In de basis zijn de voorgaande functies van windowing en padding gelijk gebleven. Hierbij zie je nu ook dat de window_size groter kan zijn (bijvoorbeeld 32). "
   ]
  },
  {
   "cell_type": "code",
   "execution_count": null,
   "metadata": {},
   "outputs": [],
   "source": []
  },
  {
   "cell_type": "code",
   "execution_count": 50,
   "metadata": {},
   "outputs": [],
   "source": [
    "data_ex2 = data_tools.BaseDataIterator_pad_wind(dataloader, 32)\n"
   ]
  },
  {
   "cell_type": "code",
   "execution_count": 51,
   "metadata": {},
   "outputs": [
    {
     "data": {
      "text/plain": [
       "(1,\n",
       " tensor([[[4299.4902, 3995.8999, 4260.0000, 4116.4102, 4330.2598, 4618.4600,\n",
       "           4084.1001, 4624.6201, 4209.2300, 4235.3799, 4194.8701, 4281.0298,\n",
       "           4583.0801, 4349.7402],\n",
       "          [4300.0000, 3995.3799, 4266.1499, 4116.4102, 4336.4102, 4620.5098,\n",
       "           4087.1799, 4622.0498, 4210.7700, 4238.4600, 4195.8999, 4285.1299,\n",
       "           4587.1802, 4351.7900],\n",
       "          [4299.4902, 3993.8501, 4265.6401, 4117.9502, 4336.9199, 4626.6699,\n",
       "           4084.6201, 4621.5400, 4212.3101, 4244.6201, 4195.3799, 4286.6699,\n",
       "           4587.6899, 4349.7402],\n",
       "          [4298.9702, 3993.3301, 4253.8501, 4111.7900, 4333.8501, 4621.0298,\n",
       "           4078.4600, 4618.9702, 4207.6899, 4239.4902, 4200.0000, 4281.5400,\n",
       "           4585.6401, 4342.0498],\n",
       "          [4302.0498, 3994.8701, 4252.8198, 4107.6899, 4332.8198, 4614.8701,\n",
       "           4078.9700, 4615.8999, 4208.2100, 4228.2100, 4202.0498, 4276.4102,\n",
       "           4586.1499, 4344.6201],\n",
       "          [4304.1001, 3995.3799, 4260.5098, 4111.2798, 4332.3101, 4618.4600,\n",
       "           4084.1001, 4614.8701, 4209.2300, 4230.7700, 4197.9502, 4277.4399,\n",
       "           4587.1802, 4349.7402],\n",
       "          [4299.4902, 3990.7700, 4261.0298, 4108.7202, 4329.2300, 4618.4600,\n",
       "           4084.1001, 4616.4102, 4208.2100, 4237.4399, 4196.4102, 4281.5400,\n",
       "           4584.6201, 4346.6699],\n",
       "          [4296.9199, 3985.6399, 4259.4902, 4103.5898, 4330.7700, 4618.9702,\n",
       "           4085.1299, 4623.5898, 4213.3301, 4235.8999, 4197.4399, 4285.6401,\n",
       "           4587.1802, 4350.7700],\n",
       "          [4297.9502, 3990.2600, 4259.4902, 4106.1499, 4333.8501, 4621.5400,\n",
       "           4086.6699, 4624.6201, 4209.7402, 4234.8701, 4194.8701, 4286.6699,\n",
       "           4592.3101, 4355.8999],\n",
       "          [4300.0000, 3995.8999, 4256.9199, 4108.7202, 4332.3101, 4618.9702,\n",
       "           4084.6201, 4613.3301, 4199.4902, 4231.2798, 4193.8501, 4281.0298,\n",
       "           4585.6401, 4349.2300],\n",
       "          [4301.5400, 3993.3301, 4260.0000, 4107.1802, 4329.7402, 4617.4399,\n",
       "           4085.1299, 4613.8501, 4209.2300, 4230.7700, 4197.4399, 4280.5098,\n",
       "           4580.0000, 4350.7700],\n",
       "          [4302.5601, 3989.2300, 4266.6699, 4107.1802, 4329.2300, 4619.4902,\n",
       "           4085.6399, 4621.0298, 4212.8198, 4237.9502, 4200.0000, 4290.7700,\n",
       "           4588.2100, 4355.3799],\n",
       "          [4302.0498, 3992.3101, 4264.6201, 4107.6899, 4328.7202, 4615.8999,\n",
       "           4078.4600, 4612.3101, 4196.4102, 4238.9702, 4197.4399, 4293.3301,\n",
       "           4592.8198, 4344.1001],\n",
       "          [4298.9702, 3993.3301, 4258.9702, 4107.1802, 4329.2300, 4614.3599,\n",
       "           4081.0300, 4607.1802, 4197.4399, 4232.8198, 4193.8501, 4282.0498,\n",
       "           4587.6899, 4341.0298],\n",
       "          [4292.8198, 3990.2600, 4253.8501, 4106.6699, 4329.2300, 4621.0298,\n",
       "           4088.7200, 4614.8701, 4207.6899, 4233.3301, 4194.8701, 4275.8999,\n",
       "           4587.6899, 4347.6899],\n",
       "          [4290.2598, 3987.1799, 4250.2598, 4106.6699, 4328.7202, 4622.0498,\n",
       "           4085.1299, 4614.8701, 4201.0298, 4230.7700, 4193.8501, 4275.3799,\n",
       "           4582.5601, 4342.5601],\n",
       "          [4293.8501, 3986.1499, 4248.7202, 4105.1299, 4326.1499, 4615.3799,\n",
       "           4077.9500, 4609.7402, 4196.9199, 4223.5898, 4190.2598, 4272.3101,\n",
       "           4575.3799, 4336.4102],\n",
       "          [4293.3301, 3988.7200, 4253.8501, 4105.6401, 4323.0801, 4613.8501,\n",
       "           4080.5100, 4612.3101, 4205.1299, 4228.2100, 4190.2598, 4274.3599,\n",
       "           4582.0498, 4337.9502],\n",
       "          [4292.3101, 3991.7900, 4260.0000, 4108.2100, 4326.1499, 4616.9199,\n",
       "           4084.1001, 4615.3799, 4203.0801, 4230.7700, 4191.7900, 4281.0298,\n",
       "           4585.1299, 4337.4399],\n",
       "          [4295.8999, 3991.2800, 4261.5400, 4108.2100, 4330.2598, 4617.9502,\n",
       "           4082.5601, 4615.8999, 4200.5098, 4221.0298, 4192.3101, 4280.5098,\n",
       "           4578.4600, 4341.5400],\n",
       "          [4296.4102, 3991.2800, 4260.5098, 4107.1802, 4327.6899, 4616.4102,\n",
       "           4082.0500, 4620.0000, 4211.2798, 4224.6201, 4193.3301, 4278.9702,\n",
       "           4578.4600, 4352.3101],\n",
       "          [4289.7402, 3992.8201, 4255.8999, 4108.7202, 4324.6201, 4616.9199,\n",
       "           4080.5100, 4621.0298, 4210.2598, 4236.9199, 4192.3101, 4281.0298,\n",
       "           4581.0298, 4352.8198],\n",
       "          [4284.6201, 3988.7200, 4248.7202, 4106.6699, 4321.5400, 4617.4399,\n",
       "           4079.4900, 4619.4902, 4197.4399, 4234.3599, 4189.7402, 4280.0000,\n",
       "           4576.9199, 4343.5898],\n",
       "          [4291.7900, 3987.6899, 4253.3301, 4104.6201, 4323.5898, 4615.8999,\n",
       "           4077.4399, 4615.8999, 4200.5098, 4229.7402, 4193.8501, 4278.9702,\n",
       "           4581.5400, 4348.7202],\n",
       "          [4301.0298, 3992.8201, 4265.1299, 4109.7402, 4329.2300, 4616.4102,\n",
       "           4076.9199, 4612.3101, 4206.6699, 4234.3599, 4200.5098, 4284.1001,\n",
       "           4592.3101, 4360.5098],\n",
       "          [4295.3799, 3994.3601, 4263.5898, 4111.7900, 4330.2598, 4622.5601,\n",
       "           4079.4900, 4610.2598, 4197.4399, 4229.7402, 4194.3599, 4282.0498,\n",
       "           4580.5098, 4349.7402],\n",
       "          [4287.6899, 3989.2300, 4259.4902, 4108.2100, 4327.6899, 4626.1499,\n",
       "           4081.0300, 4610.2598, 4197.9502, 4227.1802, 4192.3101, 4280.0000,\n",
       "           4571.7900, 4343.5898],\n",
       "          [   0.0000,    0.0000,    0.0000,    0.0000,    0.0000,    0.0000,\n",
       "              0.0000,    0.0000,    0.0000,    0.0000,    0.0000,    0.0000,\n",
       "              0.0000,    0.0000],\n",
       "          [   0.0000,    0.0000,    0.0000,    0.0000,    0.0000,    0.0000,\n",
       "              0.0000,    0.0000,    0.0000,    0.0000,    0.0000,    0.0000,\n",
       "              0.0000,    0.0000],\n",
       "          [   0.0000,    0.0000,    0.0000,    0.0000,    0.0000,    0.0000,\n",
       "              0.0000,    0.0000,    0.0000,    0.0000,    0.0000,    0.0000,\n",
       "              0.0000,    0.0000],\n",
       "          [   0.0000,    0.0000,    0.0000,    0.0000,    0.0000,    0.0000,\n",
       "              0.0000,    0.0000,    0.0000,    0.0000,    0.0000,    0.0000,\n",
       "              0.0000,    0.0000],\n",
       "          [   0.0000,    0.0000,    0.0000,    0.0000,    0.0000,    0.0000,\n",
       "              0.0000,    0.0000,    0.0000,    0.0000,    0.0000,    0.0000,\n",
       "              0.0000,    0.0000]]]))"
      ]
     },
     "execution_count": 51,
     "metadata": {},
     "output_type": "execute_result"
    }
   ],
   "source": [
    "data_ex2.__getitem__(7)\n"
   ]
  },
  {
   "cell_type": "code",
   "execution_count": 52,
   "metadata": {},
   "outputs": [
    {
     "data": {
      "text/plain": [
       "(1, torch.Size([1, 32, 14]))"
      ]
     },
     "execution_count": 52,
     "metadata": {},
     "output_type": "execute_result"
    }
   ],
   "source": [
    "x, y = data_ex2[7]\n",
    "x, y.shape\n"
   ]
  }
 ],
 "metadata": {
  "kernelspec": {
   "display_name": "Python 3.9.12 ('deep-learning-E14Cnx23-py3.9')",
   "language": "python",
   "name": "python3"
  },
  "language_info": {
   "codemirror_mode": {
    "name": "ipython",
    "version": 3
   },
   "file_extension": ".py",
   "mimetype": "text/x-python",
   "name": "python",
   "nbconvert_exporter": "python",
   "pygments_lexer": "ipython3",
   "version": "3.9.12"
  },
  "orig_nbformat": 4,
  "vscode": {
   "interpreter": {
    "hash": "16b8f312320cd240106b9ea4d318428341e8727b3c7d5fc1f73cfe4a3d9868ce"
   }
  }
 },
 "nbformat": 4,
 "nbformat_minor": 2
}
